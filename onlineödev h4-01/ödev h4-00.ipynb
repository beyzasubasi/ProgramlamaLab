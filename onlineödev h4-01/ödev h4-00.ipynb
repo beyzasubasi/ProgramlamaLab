{
 "cells": [
  {
   "cell_type": "code",
   "execution_count": 82,
   "metadata": {},
   "outputs": [],
   "source": [
    "#Beyza SUBAŞI  180401047    \n",
    "#https://github.com/beyzasubasi/ProgramlamaLab/blob/master/online%C3%B6dev%20h4-01/%C3%B6dev%20h4-00.ipynb"
   ]
  },
  {
   "cell_type": "code",
   "execution_count": 83,
   "metadata": {},
   "outputs": [],
   "source": [
    "def min_heapify(array, i):#parametre olarak array ve indeks aldıktan sonra gönderdiğimiz indeksli eleman heap \n",
    "    left = 2*i + 1      #yapısına göre düzenleniyor(2değer karşılaştırılırken sınırı geçme ve en küçük değeri min yap)\n",
    "    right = 2*i + 2\n",
    "    length = len(array) - 1\n",
    "    smallest = i\n",
    "    if left <= length and array[i] > array[left]:\n",
    "        smallest = left\n",
    "    if right <= length and array[smallest] > array[right]:\n",
    "        smallest = right\n",
    "    if smallest != i :\n",
    "        array[i], array[smallest] = array[smallest], array[i]\n",
    "        min_heapify(array, smallest)"
   ]
  },
  {
   "cell_type": "code",
   "execution_count": 84,
   "metadata": {},
   "outputs": [],
   "source": [
    "def build_min_heap(array):#arraydaki tüm elemanlar gönderilerek min heape dönüştürülür,parametre olarak diziyi alır\n",
    "    for i in reversed(range(len(array)//2)): #tersten azalarak devam eder\n",
    "        min_heapify(array, i)"
   ]
  },
  {
   "cell_type": "code",
   "execution_count": 85,
   "metadata": {},
   "outputs": [],
   "source": [
    "my_array_1 = [8,10,3,4,7,15,1,2,16]"
   ]
  },
  {
   "cell_type": "code",
   "execution_count": 86,
   "metadata": {},
   "outputs": [],
   "source": [
    "build_min_heap(my_array_1)"
   ]
  },
  {
   "cell_type": "code",
   "execution_count": 87,
   "metadata": {},
   "outputs": [
    {
     "data": {
      "text/plain": [
       "[1, 2, 3, 4, 7, 15, 8, 10, 16]"
      ]
     },
     "execution_count": 87,
     "metadata": {},
     "output_type": "execute_result"
    }
   ],
   "source": [
    "my_array_1"
   ]
  },
  {
   "cell_type": "code",
   "execution_count": 88,
   "metadata": {},
   "outputs": [],
   "source": [
    "def insertItemToHeap(myheap_1,item): #gönderilen parametreyi heape uygun olarak yapıya ekler\n",
    "    myheap_1.append(item)\n",
    "    index = len(myheap_1)-1\n",
    "    if index<=0:\n",
    "        return    \n",
    "    parent = (index-1)//2\n",
    "    while parent>=0 and myheap_1[parent] > myheap_1[index]:\n",
    "        myheap_1[parent],myheap_1[index] = myheap_1[index],myheap_1[parent]            \n",
    "        index = parent\n",
    "        parent = (index-1)//2"
   ]
  },
  {
   "cell_type": "code",
   "execution_count": 89,
   "metadata": {},
   "outputs": [],
   "source": [
    "def removeItemFromHeap(myheap_1): #en sonda bulunan eleman heap yapısından silinir\n",
    "    index = len(myheap_1)\n",
    "    if index<=0:\n",
    "        print(\"HEAP BOŞ,ELEMAN BULUNMAMAKTADIR\")\n",
    "        return\n",
    "    myheap_1.pop()"
   ]
  },
  {
   "cell_type": "code",
   "execution_count": 90,
   "metadata": {},
   "outputs": [],
   "source": [
    "def heapsort(array): #sıralama algoritması\n",
    "    array = array.copy()#diziye ekler\n",
    "    build_min_heap(array)\n",
    "    sorted_array = []\n",
    "    for _ in range(len(array)):\n",
    "        array[0], array[-1] = array[-1], array[0]\n",
    "        sorted_array.append(array.pop())\n",
    "        min_heapify(array,0)\n",
    "    return sorted_array"
   ]
  },
  {
   "cell_type": "code",
   "execution_count": 91,
   "metadata": {},
   "outputs": [],
   "source": [
    "#my_array_1 = [8,10,3,4,7,15,1,2,16]\n",
    "#my_array_2 = heapsort(my_array_1)\n",
    "#my_array_1,my_array_2"
   ]
  },
  {
   "cell_type": "code",
   "execution_count": 92,
   "metadata": {},
   "outputs": [
    {
     "name": "stdout",
     "output_type": "stream",
     "text": [
      "[1, 2, 3, 4, 7, 15, 8, 10, 16]\n"
     ]
    }
   ],
   "source": [
    "my_array_1 = [8,10,3,4,7,15,1,2,16]\n",
    "build_min_heap(my_array_1) #min heap hali\n",
    "print(my_array_1 )"
   ]
  },
  {
   "cell_type": "code",
   "execution_count": 93,
   "metadata": {},
   "outputs": [
    {
     "name": "stdout",
     "output_type": "stream",
     "text": [
      "[-8, 1, 3, 4, 2, 15, 8, 10, 16, 7, 5, 85]\n"
     ]
    }
   ],
   "source": [
    "insertItemToHeap(my_array_1,5)\n",
    "insertItemToHeap(my_array_1,-8)\n",
    "insertItemToHeap(my_array_1,85)\n",
    "print(my_array_1)"
   ]
  },
  {
   "cell_type": "code",
   "execution_count": 94,
   "metadata": {},
   "outputs": [
    {
     "name": "stdout",
     "output_type": "stream",
     "text": [
      "[-8, 1, 3, 4, 2, 15, 8, 10, 16]\n",
      "[-8, 1, 2, 3, 4, 8, 10, 15, 16]\n"
     ]
    }
   ],
   "source": [
    "removeItemFromHeap(my_array_1)\n",
    "removeItemFromHeap(my_array_1)\n",
    "removeItemFromHeap(my_array_1)\n",
    "print(my_array_1)\n",
    "print(sorted(my_array_1))"
   ]
  }
 ],
 "metadata": {
  "kernelspec": {
   "display_name": "Python 3",
   "language": "python",
   "name": "python3"
  },
  "language_info": {
   "codemirror_mode": {
    "name": "ipython",
    "version": 3
   },
   "file_extension": ".py",
   "mimetype": "text/x-python",
   "name": "python",
   "nbconvert_exporter": "python",
   "pygments_lexer": "ipython3",
   "version": "3.7.6"
  }
 },
 "nbformat": 4,
 "nbformat_minor": 4
}
